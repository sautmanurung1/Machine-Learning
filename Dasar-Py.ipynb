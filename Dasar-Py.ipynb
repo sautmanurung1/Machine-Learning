{
 "cells": [
  {
   "cell_type": "markdown",
   "metadata": {},
   "source": [
    "### Variable dan Tipe Data"
   ]
  },
  {
   "cell_type": "code",
   "execution_count": 6,
   "metadata": {},
   "outputs": [
    {
     "name": "stdout",
     "output_type": "stream",
     "text": [
      "Nama Saya Adalah : Saut Manurung\n",
      "Umur Saya adalah : 21\n",
      "Tinggi badan Saya adalah : 171\n",
      "Status saya kuliah : True\n"
     ]
    }
   ],
   "source": [
    "nama = \"Saut Manurung\"\n",
    "umur = 21\n",
    "tinggi  = 171\n",
    "status_kuliah = True\n",
    "print(\"Nama Saya Adalah : \" +nama)\n",
    "print(\"Umur Saya adalah :\", umur)\n",
    "print(\"Tinggi badan Saya adalah :\", tinggi)\n",
    "print(\"Status saya kuliah :\" , status_kuliah)"
   ]
  },
  {
   "cell_type": "code",
   "execution_count": 7,
   "metadata": {},
   "outputs": [
    {
     "ename": "NameError",
     "evalue": "name 'nama' is not defined",
     "output_type": "error",
     "traceback": [
      "\u001b[1;31m---------------------------------------------------------------------------\u001b[0m",
      "\u001b[1;31mNameError\u001b[0m                                 Traceback (most recent call last)",
      "\u001b[1;32m~\\AppData\\Local\\Temp/ipykernel_8396/1754054424.py\u001b[0m in \u001b[0;36m<module>\u001b[1;34m\u001b[0m\n\u001b[0;32m      1\u001b[0m \u001b[1;32mdel\u001b[0m\u001b[1;33m(\u001b[0m\u001b[0mnama\u001b[0m\u001b[1;33m)\u001b[0m\u001b[1;33m\u001b[0m\u001b[1;33m\u001b[0m\u001b[0m\n\u001b[1;32m----> 2\u001b[1;33m \u001b[0mprint\u001b[0m\u001b[1;33m(\u001b[0m\u001b[0mnama\u001b[0m\u001b[1;33m)\u001b[0m\u001b[1;33m\u001b[0m\u001b[1;33m\u001b[0m\u001b[0m\n\u001b[0m",
      "\u001b[1;31mNameError\u001b[0m: name 'nama' is not defined"
     ]
    }
   ],
   "source": [
    "del(nama)\n",
    "print(nama)"
   ]
  },
  {
   "cell_type": "markdown",
   "metadata": {},
   "source": [
    "### Input & Output"
   ]
  },
  {
   "cell_type": "code",
   "execution_count": 10,
   "metadata": {},
   "outputs": [],
   "source": [
    "nama = input(\"Masukkan Nama :\")\n",
    "nim = input(\"Masukkan Nim : \")\n",
    "\n",
    "print(\"Nama :\" +nama + \", NIM :\" +nim)\n",
    "print(\"Nama : {}, NIM : {}\", format(nama,nim))\n",
    "print(f\"Nama : {nama}, NIM: {nim}\")"
   ]
  },
  {
   "cell_type": "markdown",
   "metadata": {},
   "source": [
    "### Operator"
   ]
  },
  {
   "cell_type": "code",
   "execution_count": null,
   "metadata": {},
   "outputs": [],
   "source": [
    "a = int(input(\"Masukkan Nilai a :\"))\n",
    "b = int(input(\"Masukkan Nilai b :\"))"
   ]
  },
  {
   "cell_type": "markdown",
   "metadata": {},
   "source": [
    "### + = Operator Penjumlahan \n",
    "### - = Operator Pengurangan \n",
    "### * = Operator Perkalian\n",
    "### / = Operator Pembagian\n",
    "### % = Operator Sisa Bagi\n",
    "### ** = Operator Pangkat 2\n",
    "\n",
    "## operator Tereri\n",
    "umur = 15\n",
    "ket = \"Anak - Anak\" if (umur < 15) else \"Dewasa\"\n",
    "print(ket)"
   ]
  },
  {
   "cell_type": "markdown",
   "metadata": {},
   "source": [
    "### Percabangan "
   ]
  },
  {
   "cell_type": "code",
   "execution_count": 2,
   "metadata": {},
   "outputs": [
    {
     "name": "stdout",
     "output_type": "stream",
     "text": [
      "Kamu Mendapatkan Bonus Minuman Dingin dan Diskon 5%\n",
      "Total yang harus dibayar : RP 142500.0\n"
     ]
    }
   ],
   "source": [
    "total_belanja = int(input(\"Total Belanja RP :\"))\n",
    "bayar = total_belanja\n",
    "if total_belanja > 100000 :\n",
    "    print(\"Kamu Mendapatkan Bonus Minuman Dingin dan Diskon 5%\")\n",
    "    diskon = total_belanja * 5/100\n",
    "    bayar = total_belanja - diskon\n",
    "\n",
    "print(f\"Total yang harus dibayar : RP {bayar}\")"
   ]
  },
  {
   "cell_type": "code",
   "execution_count": 4,
   "metadata": {},
   "outputs": [
    {
     "name": "stdout",
     "output_type": "stream",
     "text": [
      "Grade : E\n"
     ]
    }
   ],
   "source": [
    "nilai = int(input(\"Masukkan Nilai :\"))\n",
    "if nilai >= 80:\n",
    "    grade = \"A\"\n",
    "elif nilai >= 70:\n",
    "    grade = \"B+\"\n",
    "elif nilai >= 65:\n",
    "    grade = \"B\"\n",
    "elif nilai >= 60:\n",
    "    grade = \"C+\"\n",
    "elif nilai >= 50:\n",
    "    grade =\"C\"\n",
    "elif nilai >= 40:\n",
    "    grade = \"D\"\n",
    "else :\n",
    "    grade = \"E\"\n",
    "\n",
    "print(f\"Grade : {grade}\")"
   ]
  },
  {
   "cell_type": "markdown",
   "metadata": {},
   "source": [
    "### Perulangan "
   ]
  },
  {
   "cell_type": "code",
   "execution_count": 5,
   "metadata": {},
   "outputs": [
    {
     "name": "stdout",
     "output_type": "stream",
     "text": [
      "perulangan ke : 0\n",
      "perulangan ke : 1\n",
      "perulangan ke : 2\n",
      "perulangan ke : 3\n",
      "perulangan ke : 4\n",
      "perulangan ke : 5\n",
      "perulangan ke : 6\n",
      "perulangan ke : 7\n",
      "perulangan ke : 8\n",
      "perulangan ke : 9\n"
     ]
    }
   ],
   "source": [
    "for i in range(10):\n",
    "    print(f\"perulangan ke : {i}\")"
   ]
  },
  {
   "cell_type": "code",
   "execution_count": 6,
   "metadata": {},
   "outputs": [
    {
     "name": "stdout",
     "output_type": "stream",
     "text": [
      "Total perulangan : 8 \n"
     ]
    }
   ],
   "source": [
    "jawab = 'ya'\n",
    "hitung = 0\n",
    "\n",
    "while(jawab == 'ya') :\n",
    "    hitung += 1\n",
    "    jawab = input(\"Ulang Lagi ? (ya/tidak)\")\n",
    "\n",
    "print(f\"Total perulangan : {hitung} \")"
   ]
  },
  {
   "cell_type": "markdown",
   "metadata": {},
   "source": [
    "### List"
   ]
  },
  {
   "cell_type": "code",
   "execution_count": 22,
   "metadata": {},
   "outputs": [
    {
     "name": "stdout",
     "output_type": "stream",
     "text": [
      "mangga\n",
      "3\n",
      "anggur\n",
      "Duren\n",
      "jeruk\n",
      "mangga\n",
      "Jambu\n"
     ]
    }
   ],
   "source": [
    "buah = [\"anggur\", \"jeruk\", \"mangga\"]\n",
    "print(buah[2])\n",
    "print(len(buah))\n",
    "\n",
    "buah.append(\"Jambu\")\n",
    "buah.insert(1, \"Duren\")\n",
    "\n",
    "for b in buah:\n",
    "    print(b)"
   ]
  },
  {
   "cell_type": "code",
   "execution_count": 19,
   "metadata": {},
   "outputs": [
    {
     "name": "stdout",
     "output_type": "stream",
     "text": [
      "['anggur', 'jeruk', 'mangga', 'Jambu']\n",
      "['anggur', 'mangga', 'Jambu']\n"
     ]
    }
   ],
   "source": [
    "print(buah)\n",
    "#del(buah[1])\n",
    "buah.remove(\"jeruk\")\n",
    "print(buah)"
   ]
  },
  {
   "cell_type": "code",
   "execution_count": 25,
   "metadata": {},
   "outputs": [
    {
     "name": "stdout",
     "output_type": "stream",
     "text": [
      "['anggur', 'Duren', 'jeruk', 'mangga', 'Jambu']\n",
      "['Duren', 'jeruk', 'mangga']\n",
      "['anggur', 'Duren', 'jeruk']\n"
     ]
    }
   ],
   "source": [
    "print(buah)\n",
    "\n",
    "print(buah[1:4])\n",
    "buah_part = buah[:3]\n",
    "print(buah_part)"
   ]
  },
  {
   "cell_type": "code",
   "execution_count": 27,
   "metadata": {},
   "outputs": [
    {
     "name": "stdout",
     "output_type": "stream",
     "text": [
      "['anggur', 'Duren', 'jeruk', 'mangga', 'Jambu', 'anggur', 'Duren', 'jeruk']\n",
      "['anggur', 'Duren', 'jeruk', 'anggur', 'Duren', 'jeruk', 'anggur', 'Duren', 'jeruk']\n"
     ]
    }
   ],
   "source": [
    "buah_grup = buah + buah_part\n",
    "print(buah_grup)\n",
    "\n",
    "grup = buah_part * 3\n",
    "print(grup)"
   ]
  },
  {
   "cell_type": "markdown",
   "metadata": {},
   "source": [
    "### Tuple"
   ]
  },
  {
   "cell_type": "code",
   "execution_count": 30,
   "metadata": {},
   "outputs": [
    {
     "name": "stdout",
     "output_type": "stream",
     "text": [
      "('jeruk', 'mangga')\n",
      "mangga\n"
     ]
    }
   ],
   "source": [
    "buah = (\"jeruk\", \"mangga\", \"anggur\")\n",
    "print(buah[:2])\n",
    "buah1, buah2, buah3 = buah\n",
    "print(buah2)"
   ]
  },
  {
   "cell_type": "markdown",
   "metadata": {},
   "source": [
    "### Dictionary"
   ]
  },
  {
   "cell_type": "code",
   "execution_count": 33,
   "metadata": {},
   "outputs": [
    {
     "name": "stdout",
     "output_type": "stream",
     "text": [
      "balige\n",
      "main game\n"
     ]
    }
   ],
   "source": [
    "mhs = {\n",
    "    \"nama\" : \"Saut Manurung\",\n",
    "    \"nim\" : \"201931278\",\n",
    "    \"umur\" : 21,\n",
    "    \"hobi\" : ['membaca', 'main game'],\n",
    "    \"alamat\" :{\n",
    "        \"kota\": \"balige\",\n",
    "        \"provinsi\" : \"sumatera utara\" \n",
    "    }\n",
    "}\n",
    "\n",
    "print(mhs['alamat']['kota'])\n",
    "print(mhs['hobi'][1])"
   ]
  },
  {
   "cell_type": "code",
   "execution_count": 34,
   "metadata": {},
   "outputs": [
    {
     "name": "stdout",
     "output_type": "stream",
     "text": [
      "nama : Saut Manurung\n",
      "nim : 201931278\n",
      "umur : 21\n",
      "hobi : ['membaca', 'main game']\n",
      "alamat : {'kota': 'balige', 'provinsi': 'sumatera utara'}\n"
     ]
    }
   ],
   "source": [
    "for key in mhs :\n",
    "    print(f\"{key} : {mhs[key]}\")"
   ]
  },
  {
   "cell_type": "code",
   "execution_count": 35,
   "metadata": {},
   "outputs": [
    {
     "name": "stdout",
     "output_type": "stream",
     "text": [
      "{'nama': 'Saut Manurung', 'nim': '201931278', 'umur': 20, 'hobi': ['membaca', 'main game'], 'alamat': {'kota': 'balige', 'provinsi': 'sumatera utara'}}\n"
     ]
    }
   ],
   "source": [
    "mhs['umur'] = 20\n",
    "print(mhs)"
   ]
  },
  {
   "cell_type": "code",
   "execution_count": 36,
   "metadata": {},
   "outputs": [
    {
     "name": "stdout",
     "output_type": "stream",
     "text": [
      "{'nama': 'Saut Manurung', 'nim': '201931278', 'umur': 20, 'hobi': ['membaca', 'main game'], 'alamat': {'kota': 'balige', 'provinsi': 'sumatera utara'}, 'email': 'smanurung360@gmail.com'}\n"
     ]
    }
   ],
   "source": [
    "mhs.update({'email' : 'smanurung360@gmail.com'})\n",
    "print(mhs)"
   ]
  },
  {
   "cell_type": "code",
   "execution_count": 37,
   "metadata": {},
   "outputs": [
    {
     "ename": "KeyError",
     "evalue": "'umur'",
     "output_type": "error",
     "traceback": [
      "\u001b[1;31m---------------------------------------------------------------------------\u001b[0m",
      "\u001b[1;31mKeyError\u001b[0m                                  Traceback (most recent call last)",
      "\u001b[1;32m~\\AppData\\Local\\Temp/ipykernel_17852/2540773113.py\u001b[0m in \u001b[0;36m<module>\u001b[1;34m\u001b[0m\n\u001b[0;32m      1\u001b[0m \u001b[1;32mdel\u001b[0m\u001b[1;33m(\u001b[0m\u001b[0mmhs\u001b[0m\u001b[1;33m[\u001b[0m\u001b[1;34m'umur'\u001b[0m\u001b[1;33m]\u001b[0m\u001b[1;33m)\u001b[0m\u001b[1;33m\u001b[0m\u001b[1;33m\u001b[0m\u001b[0m\n\u001b[1;32m----> 2\u001b[1;33m \u001b[0mprint\u001b[0m\u001b[1;33m(\u001b[0m\u001b[0mmhs\u001b[0m\u001b[1;33m[\u001b[0m\u001b[1;34m'umur'\u001b[0m\u001b[1;33m]\u001b[0m\u001b[1;33m)\u001b[0m\u001b[1;33m\u001b[0m\u001b[1;33m\u001b[0m\u001b[0m\n\u001b[0m",
      "\u001b[1;31mKeyError\u001b[0m: 'umur'"
     ]
    }
   ],
   "source": [
    "del(mhs['umur'])\n",
    "print(mhs['umur'])"
   ]
  },
  {
   "cell_type": "code",
   "execution_count": 38,
   "metadata": {},
   "outputs": [
    {
     "name": "stdout",
     "output_type": "stream",
     "text": [
      "{}\n"
     ]
    }
   ],
   "source": [
    "mhs.clear()\n",
    "print(mhs)"
   ]
  },
  {
   "cell_type": "markdown",
   "metadata": {},
   "source": [
    "### Fungsi"
   ]
  },
  {
   "cell_type": "code",
   "execution_count": 39,
   "metadata": {},
   "outputs": [
    {
     "name": "stdout",
     "output_type": "stream",
     "text": [
      "Hello\n",
      "World!\n"
     ]
    }
   ],
   "source": [
    "def nama_fungsi():\n",
    "    print(\"Hello\")\n",
    "    print(\"World!\")\n",
    "\n",
    "nama_fungsi()"
   ]
  },
  {
   "cell_type": "code",
   "execution_count": 40,
   "metadata": {},
   "outputs": [
    {
     "name": "stdout",
     "output_type": "stream",
     "text": [
      "Hello Saut\n"
     ]
    }
   ],
   "source": [
    "def salam(nama):\n",
    "    print(f\"Hello {nama}\")\n",
    "\n",
    "salam(\"Saut\")"
   ]
  },
  {
   "cell_type": "code",
   "execution_count": 41,
   "metadata": {},
   "outputs": [
    {
     "name": "stdout",
     "output_type": "stream",
     "text": [
      "10.0\n"
     ]
    }
   ],
   "source": [
    "def luas_segitiga(alas,tinggi):\n",
    "    return alas * tinggi / 2\n",
    "\n",
    "print(luas_segitiga(10,2))"
   ]
  }
 ],
 "metadata": {
  "interpreter": {
   "hash": "752d03738b72030cfe7ff4c6043082ccc0ad1990c2164206007c417f6e3b67cc"
  },
  "kernelspec": {
   "display_name": "Python 3.9.7 64-bit",
   "name": "python3"
  },
  "language_info": {
   "codemirror_mode": {
    "name": "ipython",
    "version": 3
   },
   "file_extension": ".py",
   "mimetype": "text/x-python",
   "name": "python",
   "nbconvert_exporter": "python",
   "pygments_lexer": "ipython3",
   "version": "3.9.7"
  },
  "orig_nbformat": 4
 },
 "nbformat": 4,
 "nbformat_minor": 2
}
